{
 "cells": [
  {
   "cell_type": "code",
   "execution_count": null,
   "id": "dcdd6187",
   "metadata": {},
   "outputs": [
    {
     "name": "stdout",
     "output_type": "stream",
     "text": [
      "Shape des particules générées : torch.Size([4, 500, 2])\n",
      "tensor([[ 7.2153e-05, -7.5651e-04],\n",
      "        [-7.4275e-04, -1.0665e-03],\n",
      "        [-1.6359e-03, -1.8652e-03],\n",
      "        [-9.2882e-03,  3.9021e-03]])\n"
     ]
    }
   ],
   "source": [
    "import torch\n",
    "from conspacesampler import algorithms, barriers\n",
    "\n",
    "def main():\n",
    "    # Définition d'une barrière logarithmique pour un carré [-0.01, 0.01] x [1, 1]\n",
    "    barrier = barriers.BoxBarrier(bounds=torch.tensor([0.01, 1]))\n",
    "\n",
    "    # Initialisation du sampler avec 500 particules\n",
    "    sampler = algorithms.misc_algorithms.HitAndRunSampler(\n",
    "        barrier=barrier,\n",
    "        num_samples=500\n",
    "    )\n",
    "\n",
    "    # Initialisation des particules dans la boîte [-0.001, 0.001]^2\n",
    "    initial_particles = torch.rand(500, 2) * 0.002 - 0.001\n",
    "    sampler.set_initial_particles(initial_particles)\n",
    "\n",
    "    # Lancement du sampler pour 1000 itérations avec un pas de 0.05\n",
    "    particles = sampler.mix(\n",
    "        num_iters=10,\n",
    "        return_particles=True,\n",
    "        no_progress=True\n",
    "    )\n",
    "\n",
    "    print(f\"Shape des particules générées : {particles.shape}\")  # (1000, 500, 2)\n",
    "\n",
    "if __name__ == \"__main__\":\n",
    "    main()\n",
    "\n"
   ]
  }
 ],
 "metadata": {
  "kernelspec": {
   "display_name": "Python 3",
   "language": "python",
   "name": "python3"
  },
  "language_info": {
   "codemirror_mode": {
    "name": "ipython",
    "version": 3
   },
   "file_extension": ".py",
   "mimetype": "text/x-python",
   "name": "python",
   "nbconvert_exporter": "python",
   "pygments_lexer": "ipython3",
   "version": "3.12.1"
  }
 },
 "nbformat": 4,
 "nbformat_minor": 5
}
